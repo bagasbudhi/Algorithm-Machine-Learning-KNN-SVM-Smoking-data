{
  "nbformat": 4,
  "nbformat_minor": 0,
  "metadata": {
    "colab": {
      "name": "Week 1.ipynb",
      "provenance": [],
      "collapsed_sections": [],
      "include_colab_link": true
    },
    "kernelspec": {
      "name": "python3",
      "display_name": "Python 3"
    },
    "accelerator": "GPU",
    "widgets": {
      "application/vnd.jupyter.widget-state+json": {
        "cb2c74eebbb9427996e6b380174e96ee": {
          "model_module": "@jupyter-widgets/controls",
          "model_name": "HBoxModel",
          "state": {
            "_view_name": "HBoxView",
            "_dom_classes": [],
            "_model_name": "HBoxModel",
            "_view_module": "@jupyter-widgets/controls",
            "_model_module_version": "1.5.0",
            "_view_count": null,
            "_view_module_version": "1.5.0",
            "box_style": "",
            "layout": "IPY_MODEL_a2362db4590e4673a070662fd6f5d36f",
            "_model_module": "@jupyter-widgets/controls",
            "children": [
              "IPY_MODEL_62eb1dfdfed64308891259156b3d6c11",
              "IPY_MODEL_e274ca932c4344b7b7b62e7ade671ddf"
            ]
          }
        },
        "a2362db4590e4673a070662fd6f5d36f": {
          "model_module": "@jupyter-widgets/base",
          "model_name": "LayoutModel",
          "state": {
            "_view_name": "LayoutView",
            "grid_template_rows": null,
            "right": null,
            "justify_content": null,
            "_view_module": "@jupyter-widgets/base",
            "overflow": null,
            "_model_module_version": "1.2.0",
            "_view_count": null,
            "flex_flow": null,
            "width": null,
            "min_width": null,
            "border": null,
            "align_items": null,
            "bottom": null,
            "_model_module": "@jupyter-widgets/base",
            "top": null,
            "grid_column": null,
            "overflow_y": null,
            "overflow_x": null,
            "grid_auto_flow": null,
            "grid_area": null,
            "grid_template_columns": null,
            "flex": null,
            "_model_name": "LayoutModel",
            "justify_items": null,
            "grid_row": null,
            "max_height": null,
            "align_content": null,
            "visibility": null,
            "align_self": null,
            "height": null,
            "min_height": null,
            "padding": null,
            "grid_auto_rows": null,
            "grid_gap": null,
            "max_width": null,
            "order": null,
            "_view_module_version": "1.2.0",
            "grid_template_areas": null,
            "object_position": null,
            "object_fit": null,
            "grid_auto_columns": null,
            "margin": null,
            "display": null,
            "left": null
          }
        },
        "62eb1dfdfed64308891259156b3d6c11": {
          "model_module": "@jupyter-widgets/controls",
          "model_name": "FloatProgressModel",
          "state": {
            "_view_name": "ProgressView",
            "style": "IPY_MODEL_c7bbc840452545c0815dd688f66d053e",
            "_dom_classes": [],
            "description": "",
            "_model_name": "FloatProgressModel",
            "bar_style": "info",
            "max": 1,
            "_view_module": "@jupyter-widgets/controls",
            "_model_module_version": "1.5.0",
            "value": 1,
            "_view_count": null,
            "_view_module_version": "1.5.0",
            "orientation": "horizontal",
            "min": 0,
            "description_tooltip": null,
            "_model_module": "@jupyter-widgets/controls",
            "layout": "IPY_MODEL_b3de1509138f4dd4b1df72dade024ea9"
          }
        },
        "e274ca932c4344b7b7b62e7ade671ddf": {
          "model_module": "@jupyter-widgets/controls",
          "model_name": "HTMLModel",
          "state": {
            "_view_name": "HTMLView",
            "style": "IPY_MODEL_5110d90036ea44d69990b0da66c7a3bf",
            "_dom_classes": [],
            "description": "",
            "_model_name": "HTMLModel",
            "placeholder": "​",
            "_view_module": "@jupyter-widgets/controls",
            "_model_module_version": "1.5.0",
            "value": " 26427392/? [00:20&lt;00:00, 80612642.99it/s]",
            "_view_count": null,
            "_view_module_version": "1.5.0",
            "description_tooltip": null,
            "_model_module": "@jupyter-widgets/controls",
            "layout": "IPY_MODEL_710c3d31a0b24d668b9a06071f0e58c0"
          }
        },
        "c7bbc840452545c0815dd688f66d053e": {
          "model_module": "@jupyter-widgets/controls",
          "model_name": "ProgressStyleModel",
          "state": {
            "_view_name": "StyleView",
            "_model_name": "ProgressStyleModel",
            "description_width": "initial",
            "_view_module": "@jupyter-widgets/base",
            "_model_module_version": "1.5.0",
            "_view_count": null,
            "_view_module_version": "1.2.0",
            "bar_color": null,
            "_model_module": "@jupyter-widgets/controls"
          }
        },
        "b3de1509138f4dd4b1df72dade024ea9": {
          "model_module": "@jupyter-widgets/base",
          "model_name": "LayoutModel",
          "state": {
            "_view_name": "LayoutView",
            "grid_template_rows": null,
            "right": null,
            "justify_content": null,
            "_view_module": "@jupyter-widgets/base",
            "overflow": null,
            "_model_module_version": "1.2.0",
            "_view_count": null,
            "flex_flow": null,
            "width": null,
            "min_width": null,
            "border": null,
            "align_items": null,
            "bottom": null,
            "_model_module": "@jupyter-widgets/base",
            "top": null,
            "grid_column": null,
            "overflow_y": null,
            "overflow_x": null,
            "grid_auto_flow": null,
            "grid_area": null,
            "grid_template_columns": null,
            "flex": null,
            "_model_name": "LayoutModel",
            "justify_items": null,
            "grid_row": null,
            "max_height": null,
            "align_content": null,
            "visibility": null,
            "align_self": null,
            "height": null,
            "min_height": null,
            "padding": null,
            "grid_auto_rows": null,
            "grid_gap": null,
            "max_width": null,
            "order": null,
            "_view_module_version": "1.2.0",
            "grid_template_areas": null,
            "object_position": null,
            "object_fit": null,
            "grid_auto_columns": null,
            "margin": null,
            "display": null,
            "left": null
          }
        },
        "5110d90036ea44d69990b0da66c7a3bf": {
          "model_module": "@jupyter-widgets/controls",
          "model_name": "DescriptionStyleModel",
          "state": {
            "_view_name": "StyleView",
            "_model_name": "DescriptionStyleModel",
            "description_width": "",
            "_view_module": "@jupyter-widgets/base",
            "_model_module_version": "1.5.0",
            "_view_count": null,
            "_view_module_version": "1.2.0",
            "_model_module": "@jupyter-widgets/controls"
          }
        },
        "710c3d31a0b24d668b9a06071f0e58c0": {
          "model_module": "@jupyter-widgets/base",
          "model_name": "LayoutModel",
          "state": {
            "_view_name": "LayoutView",
            "grid_template_rows": null,
            "right": null,
            "justify_content": null,
            "_view_module": "@jupyter-widgets/base",
            "overflow": null,
            "_model_module_version": "1.2.0",
            "_view_count": null,
            "flex_flow": null,
            "width": null,
            "min_width": null,
            "border": null,
            "align_items": null,
            "bottom": null,
            "_model_module": "@jupyter-widgets/base",
            "top": null,
            "grid_column": null,
            "overflow_y": null,
            "overflow_x": null,
            "grid_auto_flow": null,
            "grid_area": null,
            "grid_template_columns": null,
            "flex": null,
            "_model_name": "LayoutModel",
            "justify_items": null,
            "grid_row": null,
            "max_height": null,
            "align_content": null,
            "visibility": null,
            "align_self": null,
            "height": null,
            "min_height": null,
            "padding": null,
            "grid_auto_rows": null,
            "grid_gap": null,
            "max_width": null,
            "order": null,
            "_view_module_version": "1.2.0",
            "grid_template_areas": null,
            "object_position": null,
            "object_fit": null,
            "grid_auto_columns": null,
            "margin": null,
            "display": null,
            "left": null
          }
        },
        "d4a0baf52e4443af8ebff614b3328ab9": {
          "model_module": "@jupyter-widgets/controls",
          "model_name": "HBoxModel",
          "state": {
            "_view_name": "HBoxView",
            "_dom_classes": [],
            "_model_name": "HBoxModel",
            "_view_module": "@jupyter-widgets/controls",
            "_model_module_version": "1.5.0",
            "_view_count": null,
            "_view_module_version": "1.5.0",
            "box_style": "",
            "layout": "IPY_MODEL_f3bd20f5fbb9477d92a24f07c63987ee",
            "_model_module": "@jupyter-widgets/controls",
            "children": [
              "IPY_MODEL_d30056d5e8f542b5a4f5bbe40aa10d3e",
              "IPY_MODEL_f3988e9d15974a9784c4953898f5613a"
            ]
          }
        },
        "f3bd20f5fbb9477d92a24f07c63987ee": {
          "model_module": "@jupyter-widgets/base",
          "model_name": "LayoutModel",
          "state": {
            "_view_name": "LayoutView",
            "grid_template_rows": null,
            "right": null,
            "justify_content": null,
            "_view_module": "@jupyter-widgets/base",
            "overflow": null,
            "_model_module_version": "1.2.0",
            "_view_count": null,
            "flex_flow": null,
            "width": null,
            "min_width": null,
            "border": null,
            "align_items": null,
            "bottom": null,
            "_model_module": "@jupyter-widgets/base",
            "top": null,
            "grid_column": null,
            "overflow_y": null,
            "overflow_x": null,
            "grid_auto_flow": null,
            "grid_area": null,
            "grid_template_columns": null,
            "flex": null,
            "_model_name": "LayoutModel",
            "justify_items": null,
            "grid_row": null,
            "max_height": null,
            "align_content": null,
            "visibility": null,
            "align_self": null,
            "height": null,
            "min_height": null,
            "padding": null,
            "grid_auto_rows": null,
            "grid_gap": null,
            "max_width": null,
            "order": null,
            "_view_module_version": "1.2.0",
            "grid_template_areas": null,
            "object_position": null,
            "object_fit": null,
            "grid_auto_columns": null,
            "margin": null,
            "display": null,
            "left": null
          }
        },
        "d30056d5e8f542b5a4f5bbe40aa10d3e": {
          "model_module": "@jupyter-widgets/controls",
          "model_name": "FloatProgressModel",
          "state": {
            "_view_name": "ProgressView",
            "style": "IPY_MODEL_b075b15b28c747038b98b6e0ff48efe8",
            "_dom_classes": [],
            "description": "",
            "_model_name": "FloatProgressModel",
            "bar_style": "success",
            "max": 1,
            "_view_module": "@jupyter-widgets/controls",
            "_model_module_version": "1.5.0",
            "value": 1,
            "_view_count": null,
            "_view_module_version": "1.5.0",
            "orientation": "horizontal",
            "min": 0,
            "description_tooltip": null,
            "_model_module": "@jupyter-widgets/controls",
            "layout": "IPY_MODEL_1180515ffe5e41079ae82fe078c02f4c"
          }
        },
        "f3988e9d15974a9784c4953898f5613a": {
          "model_module": "@jupyter-widgets/controls",
          "model_name": "HTMLModel",
          "state": {
            "_view_name": "HTMLView",
            "style": "IPY_MODEL_260c6fa3a4484c398648b47b5a405795",
            "_dom_classes": [],
            "description": "",
            "_model_name": "HTMLModel",
            "placeholder": "​",
            "_view_module": "@jupyter-widgets/controls",
            "_model_module_version": "1.5.0",
            "value": " 32768/? [00:00&lt;00:00, 68180.95it/s]",
            "_view_count": null,
            "_view_module_version": "1.5.0",
            "description_tooltip": null,
            "_model_module": "@jupyter-widgets/controls",
            "layout": "IPY_MODEL_3ab54273db6d4d66a73b3fb012023951"
          }
        },
        "b075b15b28c747038b98b6e0ff48efe8": {
          "model_module": "@jupyter-widgets/controls",
          "model_name": "ProgressStyleModel",
          "state": {
            "_view_name": "StyleView",
            "_model_name": "ProgressStyleModel",
            "description_width": "initial",
            "_view_module": "@jupyter-widgets/base",
            "_model_module_version": "1.5.0",
            "_view_count": null,
            "_view_module_version": "1.2.0",
            "bar_color": null,
            "_model_module": "@jupyter-widgets/controls"
          }
        },
        "1180515ffe5e41079ae82fe078c02f4c": {
          "model_module": "@jupyter-widgets/base",
          "model_name": "LayoutModel",
          "state": {
            "_view_name": "LayoutView",
            "grid_template_rows": null,
            "right": null,
            "justify_content": null,
            "_view_module": "@jupyter-widgets/base",
            "overflow": null,
            "_model_module_version": "1.2.0",
            "_view_count": null,
            "flex_flow": null,
            "width": null,
            "min_width": null,
            "border": null,
            "align_items": null,
            "bottom": null,
            "_model_module": "@jupyter-widgets/base",
            "top": null,
            "grid_column": null,
            "overflow_y": null,
            "overflow_x": null,
            "grid_auto_flow": null,
            "grid_area": null,
            "grid_template_columns": null,
            "flex": null,
            "_model_name": "LayoutModel",
            "justify_items": null,
            "grid_row": null,
            "max_height": null,
            "align_content": null,
            "visibility": null,
            "align_self": null,
            "height": null,
            "min_height": null,
            "padding": null,
            "grid_auto_rows": null,
            "grid_gap": null,
            "max_width": null,
            "order": null,
            "_view_module_version": "1.2.0",
            "grid_template_areas": null,
            "object_position": null,
            "object_fit": null,
            "grid_auto_columns": null,
            "margin": null,
            "display": null,
            "left": null
          }
        },
        "260c6fa3a4484c398648b47b5a405795": {
          "model_module": "@jupyter-widgets/controls",
          "model_name": "DescriptionStyleModel",
          "state": {
            "_view_name": "StyleView",
            "_model_name": "DescriptionStyleModel",
            "description_width": "",
            "_view_module": "@jupyter-widgets/base",
            "_model_module_version": "1.5.0",
            "_view_count": null,
            "_view_module_version": "1.2.0",
            "_model_module": "@jupyter-widgets/controls"
          }
        },
        "3ab54273db6d4d66a73b3fb012023951": {
          "model_module": "@jupyter-widgets/base",
          "model_name": "LayoutModel",
          "state": {
            "_view_name": "LayoutView",
            "grid_template_rows": null,
            "right": null,
            "justify_content": null,
            "_view_module": "@jupyter-widgets/base",
            "overflow": null,
            "_model_module_version": "1.2.0",
            "_view_count": null,
            "flex_flow": null,
            "width": null,
            "min_width": null,
            "border": null,
            "align_items": null,
            "bottom": null,
            "_model_module": "@jupyter-widgets/base",
            "top": null,
            "grid_column": null,
            "overflow_y": null,
            "overflow_x": null,
            "grid_auto_flow": null,
            "grid_area": null,
            "grid_template_columns": null,
            "flex": null,
            "_model_name": "LayoutModel",
            "justify_items": null,
            "grid_row": null,
            "max_height": null,
            "align_content": null,
            "visibility": null,
            "align_self": null,
            "height": null,
            "min_height": null,
            "padding": null,
            "grid_auto_rows": null,
            "grid_gap": null,
            "max_width": null,
            "order": null,
            "_view_module_version": "1.2.0",
            "grid_template_areas": null,
            "object_position": null,
            "object_fit": null,
            "grid_auto_columns": null,
            "margin": null,
            "display": null,
            "left": null
          }
        },
        "473027a8d34a4f56b9aa5040d97184d4": {
          "model_module": "@jupyter-widgets/controls",
          "model_name": "HBoxModel",
          "state": {
            "_view_name": "HBoxView",
            "_dom_classes": [],
            "_model_name": "HBoxModel",
            "_view_module": "@jupyter-widgets/controls",
            "_model_module_version": "1.5.0",
            "_view_count": null,
            "_view_module_version": "1.5.0",
            "box_style": "",
            "layout": "IPY_MODEL_f27f5a43dd50470fbfb29f109e3e39dc",
            "_model_module": "@jupyter-widgets/controls",
            "children": [
              "IPY_MODEL_5ab6afdce1e04cb08f3b10a6e62d22e4",
              "IPY_MODEL_5e621528308a44599c37ca9429fa81f1"
            ]
          }
        },
        "f27f5a43dd50470fbfb29f109e3e39dc": {
          "model_module": "@jupyter-widgets/base",
          "model_name": "LayoutModel",
          "state": {
            "_view_name": "LayoutView",
            "grid_template_rows": null,
            "right": null,
            "justify_content": null,
            "_view_module": "@jupyter-widgets/base",
            "overflow": null,
            "_model_module_version": "1.2.0",
            "_view_count": null,
            "flex_flow": null,
            "width": null,
            "min_width": null,
            "border": null,
            "align_items": null,
            "bottom": null,
            "_model_module": "@jupyter-widgets/base",
            "top": null,
            "grid_column": null,
            "overflow_y": null,
            "overflow_x": null,
            "grid_auto_flow": null,
            "grid_area": null,
            "grid_template_columns": null,
            "flex": null,
            "_model_name": "LayoutModel",
            "justify_items": null,
            "grid_row": null,
            "max_height": null,
            "align_content": null,
            "visibility": null,
            "align_self": null,
            "height": null,
            "min_height": null,
            "padding": null,
            "grid_auto_rows": null,
            "grid_gap": null,
            "max_width": null,
            "order": null,
            "_view_module_version": "1.2.0",
            "grid_template_areas": null,
            "object_position": null,
            "object_fit": null,
            "grid_auto_columns": null,
            "margin": null,
            "display": null,
            "left": null
          }
        },
        "5ab6afdce1e04cb08f3b10a6e62d22e4": {
          "model_module": "@jupyter-widgets/controls",
          "model_name": "FloatProgressModel",
          "state": {
            "_view_name": "ProgressView",
            "style": "IPY_MODEL_62dda8d2cda64ea4b68e9b6e91380ab3",
            "_dom_classes": [],
            "description": "",
            "_model_name": "FloatProgressModel",
            "bar_style": "success",
            "max": 1,
            "_view_module": "@jupyter-widgets/controls",
            "_model_module_version": "1.5.0",
            "value": 1,
            "_view_count": null,
            "_view_module_version": "1.5.0",
            "orientation": "horizontal",
            "min": 0,
            "description_tooltip": null,
            "_model_module": "@jupyter-widgets/controls",
            "layout": "IPY_MODEL_5a3241bc86a347c688b653fdce29c03a"
          }
        },
        "5e621528308a44599c37ca9429fa81f1": {
          "model_module": "@jupyter-widgets/controls",
          "model_name": "HTMLModel",
          "state": {
            "_view_name": "HTMLView",
            "style": "IPY_MODEL_530f404d9e094026881f5b8bcb44e399",
            "_dom_classes": [],
            "description": "",
            "_model_name": "HTMLModel",
            "placeholder": "​",
            "_view_module": "@jupyter-widgets/controls",
            "_model_module_version": "1.5.0",
            "value": " 4423680/? [00:00&lt;00:00, 11883776.26it/s]",
            "_view_count": null,
            "_view_module_version": "1.5.0",
            "description_tooltip": null,
            "_model_module": "@jupyter-widgets/controls",
            "layout": "IPY_MODEL_eeb3a4fece9a43c89885cb7e5244fd76"
          }
        },
        "62dda8d2cda64ea4b68e9b6e91380ab3": {
          "model_module": "@jupyter-widgets/controls",
          "model_name": "ProgressStyleModel",
          "state": {
            "_view_name": "StyleView",
            "_model_name": "ProgressStyleModel",
            "description_width": "initial",
            "_view_module": "@jupyter-widgets/base",
            "_model_module_version": "1.5.0",
            "_view_count": null,
            "_view_module_version": "1.2.0",
            "bar_color": null,
            "_model_module": "@jupyter-widgets/controls"
          }
        },
        "5a3241bc86a347c688b653fdce29c03a": {
          "model_module": "@jupyter-widgets/base",
          "model_name": "LayoutModel",
          "state": {
            "_view_name": "LayoutView",
            "grid_template_rows": null,
            "right": null,
            "justify_content": null,
            "_view_module": "@jupyter-widgets/base",
            "overflow": null,
            "_model_module_version": "1.2.0",
            "_view_count": null,
            "flex_flow": null,
            "width": null,
            "min_width": null,
            "border": null,
            "align_items": null,
            "bottom": null,
            "_model_module": "@jupyter-widgets/base",
            "top": null,
            "grid_column": null,
            "overflow_y": null,
            "overflow_x": null,
            "grid_auto_flow": null,
            "grid_area": null,
            "grid_template_columns": null,
            "flex": null,
            "_model_name": "LayoutModel",
            "justify_items": null,
            "grid_row": null,
            "max_height": null,
            "align_content": null,
            "visibility": null,
            "align_self": null,
            "height": null,
            "min_height": null,
            "padding": null,
            "grid_auto_rows": null,
            "grid_gap": null,
            "max_width": null,
            "order": null,
            "_view_module_version": "1.2.0",
            "grid_template_areas": null,
            "object_position": null,
            "object_fit": null,
            "grid_auto_columns": null,
            "margin": null,
            "display": null,
            "left": null
          }
        },
        "530f404d9e094026881f5b8bcb44e399": {
          "model_module": "@jupyter-widgets/controls",
          "model_name": "DescriptionStyleModel",
          "state": {
            "_view_name": "StyleView",
            "_model_name": "DescriptionStyleModel",
            "description_width": "",
            "_view_module": "@jupyter-widgets/base",
            "_model_module_version": "1.5.0",
            "_view_count": null,
            "_view_module_version": "1.2.0",
            "_model_module": "@jupyter-widgets/controls"
          }
        },
        "eeb3a4fece9a43c89885cb7e5244fd76": {
          "model_module": "@jupyter-widgets/base",
          "model_name": "LayoutModel",
          "state": {
            "_view_name": "LayoutView",
            "grid_template_rows": null,
            "right": null,
            "justify_content": null,
            "_view_module": "@jupyter-widgets/base",
            "overflow": null,
            "_model_module_version": "1.2.0",
            "_view_count": null,
            "flex_flow": null,
            "width": null,
            "min_width": null,
            "border": null,
            "align_items": null,
            "bottom": null,
            "_model_module": "@jupyter-widgets/base",
            "top": null,
            "grid_column": null,
            "overflow_y": null,
            "overflow_x": null,
            "grid_auto_flow": null,
            "grid_area": null,
            "grid_template_columns": null,
            "flex": null,
            "_model_name": "LayoutModel",
            "justify_items": null,
            "grid_row": null,
            "max_height": null,
            "align_content": null,
            "visibility": null,
            "align_self": null,
            "height": null,
            "min_height": null,
            "padding": null,
            "grid_auto_rows": null,
            "grid_gap": null,
            "max_width": null,
            "order": null,
            "_view_module_version": "1.2.0",
            "grid_template_areas": null,
            "object_position": null,
            "object_fit": null,
            "grid_auto_columns": null,
            "margin": null,
            "display": null,
            "left": null
          }
        },
        "1fdb6673f0834737b38eb3dc29a2b194": {
          "model_module": "@jupyter-widgets/controls",
          "model_name": "HBoxModel",
          "state": {
            "_view_name": "HBoxView",
            "_dom_classes": [],
            "_model_name": "HBoxModel",
            "_view_module": "@jupyter-widgets/controls",
            "_model_module_version": "1.5.0",
            "_view_count": null,
            "_view_module_version": "1.5.0",
            "box_style": "",
            "layout": "IPY_MODEL_d044b2a08167433d8ff923cd7a50851e",
            "_model_module": "@jupyter-widgets/controls",
            "children": [
              "IPY_MODEL_9810fdffb38847ae90796a2930a12600",
              "IPY_MODEL_0e0b45d6706e46d7b996949107f594a8"
            ]
          }
        },
        "d044b2a08167433d8ff923cd7a50851e": {
          "model_module": "@jupyter-widgets/base",
          "model_name": "LayoutModel",
          "state": {
            "_view_name": "LayoutView",
            "grid_template_rows": null,
            "right": null,
            "justify_content": null,
            "_view_module": "@jupyter-widgets/base",
            "overflow": null,
            "_model_module_version": "1.2.0",
            "_view_count": null,
            "flex_flow": null,
            "width": null,
            "min_width": null,
            "border": null,
            "align_items": null,
            "bottom": null,
            "_model_module": "@jupyter-widgets/base",
            "top": null,
            "grid_column": null,
            "overflow_y": null,
            "overflow_x": null,
            "grid_auto_flow": null,
            "grid_area": null,
            "grid_template_columns": null,
            "flex": null,
            "_model_name": "LayoutModel",
            "justify_items": null,
            "grid_row": null,
            "max_height": null,
            "align_content": null,
            "visibility": null,
            "align_self": null,
            "height": null,
            "min_height": null,
            "padding": null,
            "grid_auto_rows": null,
            "grid_gap": null,
            "max_width": null,
            "order": null,
            "_view_module_version": "1.2.0",
            "grid_template_areas": null,
            "object_position": null,
            "object_fit": null,
            "grid_auto_columns": null,
            "margin": null,
            "display": null,
            "left": null
          }
        },
        "9810fdffb38847ae90796a2930a12600": {
          "model_module": "@jupyter-widgets/controls",
          "model_name": "FloatProgressModel",
          "state": {
            "_view_name": "ProgressView",
            "style": "IPY_MODEL_cbcf030ea52a470cb6b634a2a4934b43",
            "_dom_classes": [],
            "description": "",
            "_model_name": "FloatProgressModel",
            "bar_style": "success",
            "max": 1,
            "_view_module": "@jupyter-widgets/controls",
            "_model_module_version": "1.5.0",
            "value": 1,
            "_view_count": null,
            "_view_module_version": "1.5.0",
            "orientation": "horizontal",
            "min": 0,
            "description_tooltip": null,
            "_model_module": "@jupyter-widgets/controls",
            "layout": "IPY_MODEL_adba0b6ec9974dffa133d59350319f3d"
          }
        },
        "0e0b45d6706e46d7b996949107f594a8": {
          "model_module": "@jupyter-widgets/controls",
          "model_name": "HTMLModel",
          "state": {
            "_view_name": "HTMLView",
            "style": "IPY_MODEL_8448ff8c9e9843ff854c7d2bae473734",
            "_dom_classes": [],
            "description": "",
            "_model_name": "HTMLModel",
            "placeholder": "​",
            "_view_module": "@jupyter-widgets/controls",
            "_model_module_version": "1.5.0",
            "value": " 8192/? [00:00&lt;00:00, 73636.48it/s]",
            "_view_count": null,
            "_view_module_version": "1.5.0",
            "description_tooltip": null,
            "_model_module": "@jupyter-widgets/controls",
            "layout": "IPY_MODEL_35515c04c92346a998452d15079dcd11"
          }
        },
        "cbcf030ea52a470cb6b634a2a4934b43": {
          "model_module": "@jupyter-widgets/controls",
          "model_name": "ProgressStyleModel",
          "state": {
            "_view_name": "StyleView",
            "_model_name": "ProgressStyleModel",
            "description_width": "initial",
            "_view_module": "@jupyter-widgets/base",
            "_model_module_version": "1.5.0",
            "_view_count": null,
            "_view_module_version": "1.2.0",
            "bar_color": null,
            "_model_module": "@jupyter-widgets/controls"
          }
        },
        "adba0b6ec9974dffa133d59350319f3d": {
          "model_module": "@jupyter-widgets/base",
          "model_name": "LayoutModel",
          "state": {
            "_view_name": "LayoutView",
            "grid_template_rows": null,
            "right": null,
            "justify_content": null,
            "_view_module": "@jupyter-widgets/base",
            "overflow": null,
            "_model_module_version": "1.2.0",
            "_view_count": null,
            "flex_flow": null,
            "width": null,
            "min_width": null,
            "border": null,
            "align_items": null,
            "bottom": null,
            "_model_module": "@jupyter-widgets/base",
            "top": null,
            "grid_column": null,
            "overflow_y": null,
            "overflow_x": null,
            "grid_auto_flow": null,
            "grid_area": null,
            "grid_template_columns": null,
            "flex": null,
            "_model_name": "LayoutModel",
            "justify_items": null,
            "grid_row": null,
            "max_height": null,
            "align_content": null,
            "visibility": null,
            "align_self": null,
            "height": null,
            "min_height": null,
            "padding": null,
            "grid_auto_rows": null,
            "grid_gap": null,
            "max_width": null,
            "order": null,
            "_view_module_version": "1.2.0",
            "grid_template_areas": null,
            "object_position": null,
            "object_fit": null,
            "grid_auto_columns": null,
            "margin": null,
            "display": null,
            "left": null
          }
        },
        "8448ff8c9e9843ff854c7d2bae473734": {
          "model_module": "@jupyter-widgets/controls",
          "model_name": "DescriptionStyleModel",
          "state": {
            "_view_name": "StyleView",
            "_model_name": "DescriptionStyleModel",
            "description_width": "",
            "_view_module": "@jupyter-widgets/base",
            "_model_module_version": "1.5.0",
            "_view_count": null,
            "_view_module_version": "1.2.0",
            "_model_module": "@jupyter-widgets/controls"
          }
        },
        "35515c04c92346a998452d15079dcd11": {
          "model_module": "@jupyter-widgets/base",
          "model_name": "LayoutModel",
          "state": {
            "_view_name": "LayoutView",
            "grid_template_rows": null,
            "right": null,
            "justify_content": null,
            "_view_module": "@jupyter-widgets/base",
            "overflow": null,
            "_model_module_version": "1.2.0",
            "_view_count": null,
            "flex_flow": null,
            "width": null,
            "min_width": null,
            "border": null,
            "align_items": null,
            "bottom": null,
            "_model_module": "@jupyter-widgets/base",
            "top": null,
            "grid_column": null,
            "overflow_y": null,
            "overflow_x": null,
            "grid_auto_flow": null,
            "grid_area": null,
            "grid_template_columns": null,
            "flex": null,
            "_model_name": "LayoutModel",
            "justify_items": null,
            "grid_row": null,
            "max_height": null,
            "align_content": null,
            "visibility": null,
            "align_self": null,
            "height": null,
            "min_height": null,
            "padding": null,
            "grid_auto_rows": null,
            "grid_gap": null,
            "max_width": null,
            "order": null,
            "_view_module_version": "1.2.0",
            "grid_template_areas": null,
            "object_position": null,
            "object_fit": null,
            "grid_auto_columns": null,
            "margin": null,
            "display": null,
            "left": null
          }
        }
      }
    }
  },
  "cells": [
    {
      "cell_type": "markdown",
      "metadata": {
        "id": "view-in-github",
        "colab_type": "text"
      },
      "source": [
        "<a href=\"https://colab.research.google.com/github/bagasbudhi/Algorithm-Machine-Learning-KNN-SVM-data-Rokok/blob/master/Week_1_Dataphiles.ipynb\" target=\"_parent\"><img src=\"https://colab.research.google.com/assets/colab-badge.svg\" alt=\"Open In Colab\"/></a>"
      ]
    },
    {
      "cell_type": "markdown",
      "metadata": {
        "id": "mbccqc5fLCez"
      },
      "source": [
        "**Klasifikasi Gambar menggunakan Deep Learning**\n",
        "\n",
        "Pada kesempatan kali ini kita akan membahas seputar klasifikasi gambar menggunakan teknik deep learning. *Deep learning framework* yang digunakan adalah **PyTorch**\n",
        "\n",
        "Pada notebook ini kita akan belajar mengenai beberapa topik:\n",
        "1.   **Cara mempersiapkan dataset untuk proses pelatihan**\n",
        "      *   Load dataset yang telah tersedia di PyTorch dan melakukan investigasi terhadap dataset\n",
        "      *   Membuat dataloader untuk dataset\n",
        "      *   Split dataset untuk traning dan validasi\n",
        "\n",
        "2.   **Proses training**\n",
        "      *   Komponen-Komponen untuk training\n",
        "          *   Optimizer\n",
        "          *   Criterion atau *loss function*\n",
        "          *   Hyperparameter untuk training\n",
        "              *   learning rate\n",
        "              *   jumlah epoch\n",
        "      *   Menghitung training loss\n",
        "\n",
        "3.   **Proses validasi**\n",
        "      *   Menghitung nilai akurasi validasi\n",
        "\n",
        "\n",
        "4.   **Visualisasi training loss vs akurasi validasi**\n",
        "\n",
        "5.   **Komparasi performa dua model yang berbeda**\n",
        "\n",
        "\n",
        "\n",
        "\n",
        "\n",
        "\n",
        "\n",
        "\n",
        "\n",
        "\n",
        "\n",
        "\n",
        "\n"
      ]
    },
    {
      "cell_type": "markdown",
      "metadata": {
        "id": "e8x3eeVaQTd5"
      },
      "source": [
        "**install library yang dibutuhkan**\n",
        "\n",
        "Library yang dibutuhkan yaitu **torch** dan **torchvision**\n",
        "\n",
        "*   **Torch**: Library yang berisi fungsi-fungsi matematis untuk deep learning sperti: *loss function*, optimizer, layer *neural network*, dsb\n",
        "*   **Torchvision**: Library seputar computer vision task seperti: load dataset untuk klasifikasi gambar ataupun deteksi objek, load pre-trained weight model-model komputer vision, transformasi pada dataset (resize, rotate, flip dst), dsb\n",
        "\n"
      ]
    },
    {
      "cell_type": "code",
      "metadata": {
        "id": "YOM47GHrMTP_",
        "outputId": "0ef2f402-9124-427e-9642-935a343d569b",
        "colab": {
          "base_uri": "https://localhost:8080/",
          "height": 153
        }
      },
      "source": [
        "!pip install torch\n",
        "!pip install torchvision"
      ],
      "execution_count": null,
      "outputs": [
        {
          "output_type": "stream",
          "text": [
            "Requirement already satisfied: torch in /usr/local/lib/python3.6/dist-packages (1.6.0+cu101)\n",
            "Requirement already satisfied: numpy in /usr/local/lib/python3.6/dist-packages (from torch) (1.18.5)\n",
            "Requirement already satisfied: future in /usr/local/lib/python3.6/dist-packages (from torch) (0.16.0)\n",
            "Requirement already satisfied: torchvision in /usr/local/lib/python3.6/dist-packages (0.7.0+cu101)\n",
            "Requirement already satisfied: numpy in /usr/local/lib/python3.6/dist-packages (from torchvision) (1.18.5)\n",
            "Requirement already satisfied: pillow>=4.1.1 in /usr/local/lib/python3.6/dist-packages (from torchvision) (7.0.0)\n",
            "Requirement already satisfied: torch==1.6.0 in /usr/local/lib/python3.6/dist-packages (from torchvision) (1.6.0+cu101)\n",
            "Requirement already satisfied: future in /usr/local/lib/python3.6/dist-packages (from torch==1.6.0->torchvision) (0.16.0)\n"
          ],
          "name": "stdout"
        }
      ]
    },
    {
      "cell_type": "markdown",
      "metadata": {
        "id": "cSSYRJsZSJQg"
      },
      "source": [
        "**Import library yang telah terinstall**"
      ]
    },
    {
      "cell_type": "code",
      "metadata": {
        "id": "c1Y2sE_wRCQJ",
        "outputId": "65c0f80a-7041-40cc-b602-c1fb609b9500",
        "colab": {
          "base_uri": "https://localhost:8080/",
          "height": 68
        }
      },
      "source": [
        "import torch\n",
        "import torch.nn as nn\n",
        "import torchvision\n",
        "import torchvision.datasets as dset\n",
        "import torchvision.transforms as transforms\n",
        "import matplotlib.pylab as plt\n",
        "import numpy as np\n",
        "\n",
        "print(torch.__version__)\n",
        "print(torchvision.__version__)\n",
        "print(torch.cuda.is_available())"
      ],
      "execution_count": null,
      "outputs": [
        {
          "output_type": "stream",
          "text": [
            "1.6.0+cu101\n",
            "0.7.0+cu101\n",
            "True\n"
          ],
          "name": "stdout"
        }
      ]
    },
    {
      "cell_type": "code",
      "metadata": {
        "id": "oc9kdSFHOtuS"
      },
      "source": [
        "device  = torch.device(\"cuda:0\" if torch.cuda.is_available() else \"cpu\")"
      ],
      "execution_count": null,
      "outputs": []
    },
    {
      "cell_type": "markdown",
      "metadata": {
        "id": "Yq_GcsrRSvz_"
      },
      "source": [
        "**Visualisasi metric untuk training dan validasi**\n",
        "\n",
        "Karena kita akan memvisualisasikan grafik training loss vs akurasi validasi, maka kita membuat fungsi khusus untuk tugas tersebut.\n",
        "\n",
        "Visualisasi metric untuk training dan validasi penting karena akan membantu kita mengetahui apakah model yang kita buat mengalami overfitting, underfitting atau tidak dua-duanya. "
      ]
    },
    {
      "cell_type": "code",
      "metadata": {
        "id": "jo0LxWaRfFUN"
      },
      "source": [
        "def plot_accuracy_loss(training_results): \n",
        "    plt.subplot(2, 1, 1)\n",
        "    plt.plot(training_results['training_loss'], 'r')\n",
        "    plt.ylabel('loss')\n",
        "    plt.title('training loss')\n",
        "    plt.subplot(2, 1, 2)\n",
        "    plt.plot(training_results['validation_accuracy'])\n",
        "    plt.ylabel('accuracy')\n",
        "    plt.xlabel('epochs')   \n",
        "    plt.show()"
      ],
      "execution_count": null,
      "outputs": []
    },
    {
      "cell_type": "markdown",
      "metadata": {
        "id": "JJaWzQcETgbz"
      },
      "source": [
        "**Visualisasi Dataset**\n",
        "\n",
        "Di bawah ini, kita membuat fungsi khusus untuk menampilkan dataset yang kita gunakan.\n",
        "\n",
        "*   `output_label`: untuk mengkonversi label dataset ke nilai label aslinya. \n",
        "*   `show_data`: fungsi utama untuk visualisasi dataset\n",
        "\n"
      ]
    },
    {
      "cell_type": "code",
      "metadata": {
        "id": "4aE-YSk1ZHo2"
      },
      "source": [
        "class_names = {\n",
        "                 0: \"T-shirt/Top\",\n",
        "                 1: \"Trouser\",\n",
        "                 2: \"Pullover\",\n",
        "                 3: \"Dress\",\n",
        "                 4: \"Coat\", \n",
        "                 5: \"Sandal\", \n",
        "                 6: \"Shirt\",\n",
        "                 7: \"Sneaker\",\n",
        "                 8: \"Bag\",\n",
        "                 9: \"Ankle Boot\"\n",
        "                 }"
      ],
      "execution_count": null,
      "outputs": []
    },
    {
      "cell_type": "code",
      "metadata": {
        "id": "HIoP9ShnXQ7W"
      },
      "source": [
        "def output_label(label):\n",
        "  global class_names\n",
        "  input = (label.item() if type(label) == torch.Tensor else label)\n",
        "  return class_names[input]"
      ],
      "execution_count": null,
      "outputs": []
    },
    {
      "cell_type": "code",
      "metadata": {
        "id": "n0pejUKvTVZJ"
      },
      "source": [
        "def show_data(data_sample):\n",
        "  IMAGE_SIZE = data_sample[0].shape[1]\n",
        "  plt.imshow(data_sample[0].numpy().reshape(IMAGE_SIZE, IMAGE_SIZE), cmap='gray')\n",
        "  plt.title('y = '+ str(output_label(data_sample[1])))"
      ],
      "execution_count": null,
      "outputs": []
    },
    {
      "cell_type": "markdown",
      "metadata": {
        "id": "v8QT6aKtU83g"
      },
      "source": [
        "**Download dataset**\n",
        "\n",
        "Dataset yang akan kita gunakan untuk hari ini adalah Fashion MNIST Dataset. Dataset ini telah tersedia di **torchvision** dan dapat kita download secara langsung. Kita akan mendownload dataset ini menjadi 2 bagian yaitu dataset untuk training `train_dataset` dan dataset untuk validasi `validation_dataset`. Fashion MNIST Dataset memiliki 10 label kelas.\n",
        "\n",
        "Kita juga melakukan sedikit inspeksi terhadap dataset untuk mengetahui informasi dasar seputar dataset seperti ukuran gambar, serta visualisasi gambar yang ada di dataset.\n",
        "\n",
        "infomasi lebih lengkap seputar Fashion MNIST Dataset: (https://github.com/zalandoresearch/fashion-mnist)"
      ]
    },
    {
      "cell_type": "code",
      "metadata": {
        "id": "cb3dK1ZJSz7M",
        "outputId": "a79e6223-e4d6-4d36-fb43-5a5a780af2ec",
        "colab": {
          "base_uri": "https://localhost:8080/",
          "height": 420,
          "referenced_widgets": [
            "cb2c74eebbb9427996e6b380174e96ee",
            "a2362db4590e4673a070662fd6f5d36f",
            "62eb1dfdfed64308891259156b3d6c11",
            "e274ca932c4344b7b7b62e7ade671ddf",
            "c7bbc840452545c0815dd688f66d053e",
            "b3de1509138f4dd4b1df72dade024ea9",
            "5110d90036ea44d69990b0da66c7a3bf",
            "710c3d31a0b24d668b9a06071f0e58c0",
            "d4a0baf52e4443af8ebff614b3328ab9",
            "f3bd20f5fbb9477d92a24f07c63987ee",
            "d30056d5e8f542b5a4f5bbe40aa10d3e",
            "f3988e9d15974a9784c4953898f5613a",
            "b075b15b28c747038b98b6e0ff48efe8",
            "1180515ffe5e41079ae82fe078c02f4c",
            "260c6fa3a4484c398648b47b5a405795",
            "3ab54273db6d4d66a73b3fb012023951",
            "473027a8d34a4f56b9aa5040d97184d4",
            "f27f5a43dd50470fbfb29f109e3e39dc",
            "5ab6afdce1e04cb08f3b10a6e62d22e4",
            "5e621528308a44599c37ca9429fa81f1",
            "62dda8d2cda64ea4b68e9b6e91380ab3",
            "5a3241bc86a347c688b653fdce29c03a",
            "530f404d9e094026881f5b8bcb44e399",
            "eeb3a4fece9a43c89885cb7e5244fd76",
            "1fdb6673f0834737b38eb3dc29a2b194",
            "d044b2a08167433d8ff923cd7a50851e",
            "9810fdffb38847ae90796a2930a12600",
            "0e0b45d6706e46d7b996949107f594a8",
            "cbcf030ea52a470cb6b634a2a4934b43",
            "adba0b6ec9974dffa133d59350319f3d",
            "8448ff8c9e9843ff854c7d2bae473734",
            "35515c04c92346a998452d15079dcd11"
          ]
        }
      },
      "source": [
        "train_dataset = dset.FashionMNIST(root='/data', train=True, download=True, transform=transforms.ToTensor())\n",
        "validation_dataset = dset.FashionMNIST(root='/data', train=False, download=True, transform=transforms.ToTensor())"
      ],
      "execution_count": null,
      "outputs": [
        {
          "output_type": "stream",
          "text": [
            "Downloading http://fashion-mnist.s3-website.eu-central-1.amazonaws.com/train-images-idx3-ubyte.gz to /data/FashionMNIST/raw/train-images-idx3-ubyte.gz\n"
          ],
          "name": "stdout"
        },
        {
          "output_type": "display_data",
          "data": {
            "application/vnd.jupyter.widget-view+json": {
              "model_id": "cb2c74eebbb9427996e6b380174e96ee",
              "version_minor": 0,
              "version_major": 2
            },
            "text/plain": [
              "HBox(children=(FloatProgress(value=1.0, bar_style='info', max=1.0), HTML(value='')))"
            ]
          },
          "metadata": {
            "tags": []
          }
        },
        {
          "output_type": "stream",
          "text": [
            "Extracting /data/FashionMNIST/raw/train-images-idx3-ubyte.gz to /data/FashionMNIST/raw\n",
            "Downloading http://fashion-mnist.s3-website.eu-central-1.amazonaws.com/train-labels-idx1-ubyte.gz to /data/FashionMNIST/raw/train-labels-idx1-ubyte.gz\n"
          ],
          "name": "stdout"
        },
        {
          "output_type": "display_data",
          "data": {
            "application/vnd.jupyter.widget-view+json": {
              "model_id": "d4a0baf52e4443af8ebff614b3328ab9",
              "version_minor": 0,
              "version_major": 2
            },
            "text/plain": [
              "HBox(children=(FloatProgress(value=1.0, bar_style='info', max=1.0), HTML(value='')))"
            ]
          },
          "metadata": {
            "tags": []
          }
        },
        {
          "output_type": "stream",
          "text": [
            "Extracting /data/FashionMNIST/raw/train-labels-idx1-ubyte.gz to /data/FashionMNIST/raw\n",
            "Downloading http://fashion-mnist.s3-website.eu-central-1.amazonaws.com/t10k-images-idx3-ubyte.gz to /data/FashionMNIST/raw/t10k-images-idx3-ubyte.gz\n"
          ],
          "name": "stdout"
        },
        {
          "output_type": "display_data",
          "data": {
            "application/vnd.jupyter.widget-view+json": {
              "model_id": "473027a8d34a4f56b9aa5040d97184d4",
              "version_minor": 0,
              "version_major": 2
            },
            "text/plain": [
              "HBox(children=(FloatProgress(value=1.0, bar_style='info', max=1.0), HTML(value='')))"
            ]
          },
          "metadata": {
            "tags": []
          }
        },
        {
          "output_type": "stream",
          "text": [
            "Extracting /data/FashionMNIST/raw/t10k-images-idx3-ubyte.gz to /data/FashionMNIST/raw\n",
            "Downloading http://fashion-mnist.s3-website.eu-central-1.amazonaws.com/t10k-labels-idx1-ubyte.gz to /data/FashionMNIST/raw/t10k-labels-idx1-ubyte.gz\n"
          ],
          "name": "stdout"
        },
        {
          "output_type": "display_data",
          "data": {
            "application/vnd.jupyter.widget-view+json": {
              "model_id": "1fdb6673f0834737b38eb3dc29a2b194",
              "version_minor": 0,
              "version_major": 2
            },
            "text/plain": [
              "HBox(children=(FloatProgress(value=1.0, bar_style='info', max=1.0), HTML(value='')))"
            ]
          },
          "metadata": {
            "tags": []
          }
        },
        {
          "output_type": "stream",
          "text": [
            "Extracting /data/FashionMNIST/raw/t10k-labels-idx1-ubyte.gz to /data/FashionMNIST/raw\n",
            "Processing...\n",
            "\n",
            "\n",
            "\n",
            "Done!\n"
          ],
          "name": "stdout"
        },
        {
          "output_type": "stream",
          "text": [
            "/usr/local/lib/python3.6/dist-packages/torchvision/datasets/mnist.py:469: UserWarning: The given NumPy array is not writeable, and PyTorch does not support non-writeable tensors. This means you can write to the underlying (supposedly non-writeable) NumPy array using the tensor. You may want to copy the array to protect its data or make it writeable before converting it to a tensor. This type of warning will be suppressed for the rest of this program. (Triggered internally at  /pytorch/torch/csrc/utils/tensor_numpy.cpp:141.)\n",
            "  return torch.from_numpy(parsed.astype(m[2], copy=False)).view(*s)\n"
          ],
          "name": "stderr"
        }
      ]
    },
    {
      "cell_type": "code",
      "metadata": {
        "id": "nHV7eXTUDcqi",
        "outputId": "67b2b7e5-5b3e-44e0-f2ab-c0ee11ea268a",
        "colab": {
          "base_uri": "https://localhost:8080/",
          "height": 34
        }
      },
      "source": [
        "train_dataset[0][0].shape\n"
      ],
      "execution_count": null,
      "outputs": [
        {
          "output_type": "execute_result",
          "data": {
            "text/plain": [
              "torch.Size([1, 28, 28])"
            ]
          },
          "metadata": {
            "tags": []
          },
          "execution_count": 9
        }
      ]
    },
    {
      "cell_type": "code",
      "metadata": {
        "id": "2BRMgZqJJwjt",
        "outputId": "2412e809-18fe-4789-f011-ab6706e09630",
        "colab": {
          "base_uri": "https://localhost:8080/",
          "height": 51
        }
      },
      "source": [
        "print(\"[INFO] number of training dataset = \", len(train_dataset))\n",
        "print(\"[INFO] number of validation dataset = \", len(validation_dataset))"
      ],
      "execution_count": null,
      "outputs": [
        {
          "output_type": "stream",
          "text": [
            "[INFO] number of training dataset =  60000\n",
            "[INFO] number of validation dataset =  10000\n"
          ],
          "name": "stdout"
        }
      ]
    },
    {
      "cell_type": "code",
      "metadata": {
        "id": "0vhNnV2aVPU4",
        "outputId": "23ad5557-12b2-4b6a-910a-212a9d155c7c",
        "colab": {
          "base_uri": "https://localhost:8080/",
          "height": 281
        }
      },
      "source": [
        "show_data(train_dataset[1])"
      ],
      "execution_count": null,
      "outputs": [
        {
          "output_type": "display_data",
          "data": {
            "image/png": "[encoded data removed]",
            "text/plain": [
              "<Figure size 432x288 with 1 Axes>"
            ]
          },
          "metadata": {
            "tags": [],
            "needs_background": "light"
          }
        }
      ]
    },
    {
      "cell_type": "markdown",
      "metadata": {
        "id": "u0G_Y8zSX2kL"
      },
      "source": [
        "**Dataloader**\n",
        "\n",
        "Selanjutnya, kita membuat dataloader untuk loading dataset. Keuntungan utama menggunakan dataloader yaitu ita dapat melakukan loading dataset kedalam ukuran-ukuran (batch) sesuai kemampuan memori. Hal ini dapat mempercepat proses training.\n",
        "\n",
        "\n"
      ]
    },
    {
      "cell_type": "code",
      "metadata": {
        "id": "V0zcU_0gRgHh"
      },
      "source": [
        "train_loader = torch.utils.data.DataLoader(dataset=train_dataset, batch_size=100, shuffle=True, num_workers=2)\n",
        "validation_loader = torch.utils.data.DataLoader(dataset=validation_dataset, batch_size=100, shuffle=True, num_workers=2)"
      ],
      "execution_count": null,
      "outputs": []
    },
    {
      "cell_type": "markdown",
      "metadata": {
        "id": "TmdSO_N-ZnjX"
      },
      "source": [
        "**Fungsi untuk Training dan Validasi**\n",
        "\n",
        "`train` merupakan fungsi untuk melakukan training dan validasi. Fungsi ini membutuhkan beberapa parameter:\n",
        "*   `model`: model yang kita gunakan \n",
        "*   `criterion`: criterion yang kita gunakan untuk training\n",
        "*   `train_loader` dan `validation_loader`: Dataloader untuk dataset training dan dataset validasi\n",
        "*   `optimizer`: algoritma optimizer untuk training\n",
        "*   `epochs`: jumlah epoch \n",
        "*   `model_type`: tipe model yang digunakan. Karena kita akan membandingkan performa 2 model yaitu CNN dan Neural Network biasa\n",
        "\n",
        "Nilai training loss untuk setiap epoch merupakan rata-rata loss semua iterasi dalam satu epoch tersebut.\n",
        "\n",
        "Nilai akurasi validasi dihitung berdasarkan jumlah kesamaan antara nilai prediksi oleh model dengan label/groundtruth\n",
        "\n",
        "\n",
        "\n"
      ]
    },
    {
      "cell_type": "code",
      "metadata": {
        "id": "8I-pInWLdxLV"
      },
      "source": [
        "def train(model, criterion, train_loader, validation_loader, optimizer, epochs, model_type):\n",
        "    i = 0\n",
        "    useful_stuff = {'training_loss': [],'validation_accuracy': []}  \n",
        "    for epoch in range(epochs):\n",
        "      cost = 0\n",
        "      loss_epoch = 0\n",
        "      for i, (x, y) in enumerate(train_loader):\n",
        "        x, y = x.to(device), y.to(device)\n",
        "        model.train()\n",
        "        optimizer.zero_grad()\n",
        "        if model_type == 'linear':\n",
        "          z = model(x.view(-1, 28 * 28))\n",
        "        else:\n",
        "          z = model(x)\n",
        "        \n",
        "        loss = criterion(z, y)\n",
        "        loss.backward()\n",
        "        optimizer.step()\n",
        "        cost+=loss.data.item()\n",
        "        #loss for every epoch\n",
        "      loss_epoch = cost/len(train_loader)\n",
        "      useful_stuff['training_loss'].append(loss_epoch)\n",
        "      print(\"[INFO] Epoch:{}/{} train_loss:{}\".format(epoch+1, epochs, loss_epoch))\n",
        "\n",
        "      correct = 0\n",
        "      for x, y in validation_loader:\n",
        "        x, y = x.to(device), y.to(device)\n",
        "        #validation\n",
        "        model.eval()\n",
        "        if model_type == 'linear':\n",
        "          z = model(x.view(-1, 28 * 28))\n",
        "        else:\n",
        "          z = model(x)\n",
        "        _, label = torch.max(z, 1)\n",
        "        correct += (label == y).sum().item()\n",
        "      accuracy = 100 * (correct / len(validation_dataset))\n",
        "      useful_stuff['validation_accuracy'].append(accuracy)\n",
        "      print(\"[INFO] Epoch:{}/{} val_acc:{}\".format(epoch+1, epochs, accuracy))\n",
        "    return useful_stuff"
      ],
      "execution_count": null,
      "outputs": []
    },
    {
      "cell_type": "markdown",
      "metadata": {
        "id": "Nve242kgc6Nx"
      },
      "source": [
        "**Definisi Model (Linear)**\n",
        "\n",
        "Pertama, kita akan membuat model *neural network* biasa terlebih dahulu. Model ini memiliki 1 *hidden layer* yang memiliki 100 *hidden cell*. \n",
        "```\n",
        "  input    ===>  hidden layer   ===> output\n",
        "(28*28)            (100)              (10)\n",
        "```\n",
        "Ukuran input harus sama dengan ukuran gambar. Karena dataset yang kita gunakan memiliki ukuran gambar `28*28`, maka ukuran input juga `28*28`. Sedangkan ukuran output 10 dikarenakan Fashion MNIST memiliki 10 lebel kelas."
      ]
    },
    {
      "cell_type": "code",
      "metadata": {
        "id": "E_QgxrY0cc1o",
        "outputId": "f02d7a7d-a7f2-4245-b62a-9859213e928c",
        "colab": {
          "base_uri": "https://localhost:8080/",
          "height": 85
        }
      },
      "source": [
        "model_linear = nn.Sequential(\n",
        "    nn.Linear(in_features=28*28, out_features=100),\n",
        "    nn.Linear(in_features=100, out_features=10)\n",
        ")\n",
        "model_linear.to(device)"
      ],
      "execution_count": null,
      "outputs": [
        {
          "output_type": "execute_result",
          "data": {
            "text/plain": [
              "Sequential(\n",
              "  (0): Linear(in_features=784, out_features=100, bias=True)\n",
              "  (1): Linear(in_features=100, out_features=10, bias=True)\n",
              ")"
            ]
          },
          "metadata": {
            "tags": []
          },
          "execution_count": 13
        }
      ]
    },
    {
      "cell_type": "markdown",
      "metadata": {
        "id": "lGj6D_EVOhzx"
      },
      "source": [
        "**Komponen Training**\n",
        "\n",
        "*   Criterion atau *loss function*: criterion yang dipakai menyesuaikan dengan masalah yang ingin diselesaikan. Karena masalah kita adalah *multi-class classification* maka kita menggunakan **cross entropy loss**. Criterion lain yang ada di PyTorch dapat dicek di https://pytorch.org/docs/stable/nn.html#loss-functions\n",
        "*   Optimizer: di notebook ini kita menggunakan ***Stocastic Gradient Descent*** atau SGD dengan learning rate = 0.01. PyTorch mensupport banyak algoritma optimizer dan dapat dilihat di https://pytorch.org/docs/stable/optim.html\n",
        "\n"
      ]
    },
    {
      "cell_type": "code",
      "metadata": {
        "id": "-jsiMiuHezCi"
      },
      "source": [
        "criterion = nn.CrossEntropyLoss()\n",
        "learning_rate = 0.01\n",
        "optimizer = torch.optim.SGD(model_linear.parameters(), lr=learning_rate)"
      ],
      "execution_count": null,
      "outputs": []
    },
    {
      "cell_type": "markdown",
      "metadata": {
        "id": "qibGMM0nS4Xz"
      },
      "source": [
        "**Training dan Validasi Model Linear**\n",
        "\n",
        "Menggunakan model linear, kita dapat mencapai akurasi sebesar **83.96%** pada epoch ke 30. Kita akan membandingkan hasil ini dengan model yang lain yaiitu CNN. \n",
        "\n",
        "NB: jumlah epoch dan learning rate merupakan hyperparameter yang harus dituning untuk memberikan hasil terbaik. "
      ]
    },
    {
      "cell_type": "code",
      "metadata": {
        "id": "g71XUDkIepFp",
        "outputId": "4c848695-ef64-452f-b73e-d0ba5e0b371f",
        "colab": {
          "base_uri": "https://localhost:8080/",
          "height": 1000
        }
      },
      "source": [
        "training_results = train(model_linear, criterion, train_loader, validation_loader, optimizer, epochs=30, model_type='linear')"
      ],
      "execution_count": null,
      "outputs": [
        {
          "output_type": "stream",
          "text": [
            "[INFO] Epoch:1/30 train_loss:1.196323267320792\n",
            "[INFO] Epoch:1/30 val_acc:71.25\n",
            "[INFO] Epoch:2/30 train_loss:0.7289589996139209\n",
            "[INFO] Epoch:2/30 val_acc:76.09\n",
            "[INFO] Epoch:3/30 train_loss:0.6302139144639174\n",
            "[INFO] Epoch:3/30 val_acc:78.79\n",
            "[INFO] Epoch:4/30 train_loss:0.5775263729691505\n",
            "[INFO] Epoch:4/30 val_acc:79.86\n",
            "[INFO] Epoch:5/30 train_loss:0.5438478055099646\n",
            "[INFO] Epoch:5/30 val_acc:80.88\n",
            "[INFO] Epoch:6/30 train_loss:0.5206022495528062\n",
            "[INFO] Epoch:6/30 val_acc:81.33\n",
            "[INFO] Epoch:7/30 train_loss:0.5034051454563936\n",
            "[INFO] Epoch:7/30 val_acc:81.99\n",
            "[INFO] Epoch:8/30 train_loss:0.49025867705543835\n",
            "[INFO] Epoch:8/30 val_acc:82.15\n",
            "[INFO] Epoch:9/30 train_loss:0.4797066680093606\n",
            "[INFO] Epoch:9/30 val_acc:82.5\n",
            "[INFO] Epoch:10/30 train_loss:0.47100037227074304\n",
            "[INFO] Epoch:10/30 val_acc:82.67999999999999\n",
            "[INFO] Epoch:11/30 train_loss:0.46368103752533596\n",
            "[INFO] Epoch:11/30 val_acc:82.76\n",
            "[INFO] Epoch:12/30 train_loss:0.4576263362665971\n",
            "[INFO] Epoch:12/30 val_acc:82.95\n",
            "[INFO] Epoch:13/30 train_loss:0.45257442568739253\n",
            "[INFO] Epoch:13/30 val_acc:83.00999999999999\n",
            "[INFO] Epoch:14/30 train_loss:0.4472829321026802\n",
            "[INFO] Epoch:14/30 val_acc:83.06\n",
            "[INFO] Epoch:15/30 train_loss:0.44346291974186897\n",
            "[INFO] Epoch:15/30 val_acc:83.28999999999999\n",
            "[INFO] Epoch:16/30 train_loss:0.43963854814569153\n",
            "[INFO] Epoch:16/30 val_acc:83.49\n",
            "[INFO] Epoch:17/30 train_loss:0.43624706310530503\n",
            "[INFO] Epoch:17/30 val_acc:83.59\n",
            "[INFO] Epoch:18/30 train_loss:0.43366092803577583\n",
            "[INFO] Epoch:18/30 val_acc:83.47\n",
            "[INFO] Epoch:19/30 train_loss:0.4304116697609425\n",
            "[INFO] Epoch:19/30 val_acc:83.65\n",
            "[INFO] Epoch:20/30 train_loss:0.428060323347648\n",
            "[INFO] Epoch:20/30 val_acc:83.49\n",
            "[INFO] Epoch:21/30 train_loss:0.42594793265064557\n",
            "[INFO] Epoch:21/30 val_acc:83.63000000000001\n",
            "[INFO] Epoch:22/30 train_loss:0.42368332160015904\n",
            "[INFO] Epoch:22/30 val_acc:83.83\n",
            "[INFO] Epoch:23/30 train_loss:0.4218043126910925\n",
            "[INFO] Epoch:23/30 val_acc:83.62\n",
            "[INFO] Epoch:24/30 train_loss:0.42008016869425774\n",
            "[INFO] Epoch:24/30 val_acc:83.67\n",
            "[INFO] Epoch:25/30 train_loss:0.4180996488034725\n",
            "[INFO] Epoch:25/30 val_acc:83.82\n",
            "[INFO] Epoch:26/30 train_loss:0.41686519972980024\n",
            "[INFO] Epoch:26/30 val_acc:83.73\n",
            "[INFO] Epoch:27/30 train_loss:0.41538913125793137\n",
            "[INFO] Epoch:27/30 val_acc:83.94\n",
            "[INFO] Epoch:28/30 train_loss:0.4135619811962048\n",
            "[INFO] Epoch:28/30 val_acc:83.95\n",
            "[INFO] Epoch:29/30 train_loss:0.41225502533217273\n",
            "[INFO] Epoch:29/30 val_acc:83.63000000000001\n",
            "[INFO] Epoch:30/30 train_loss:0.41108335110048455\n",
            "[INFO] Epoch:30/30 val_acc:83.59\n"
          ],
          "name": "stdout"
        }
      ]
    },
    {
      "cell_type": "markdown",
      "metadata": {
        "id": "OMcRB0jtT4J3"
      },
      "source": [
        "**Visualisasi Training Loss vs Akurasi Validasi Model Linear**\n",
        "\n",
        "Dari grafik di bawah, kita dapat melihat bahwa semakin bertambahnya epoch, training loss semakin turun sedangkan akurasi validasi semakin meningkat. Ini menunjukan bahwa model kita melakukan proses \"*learning*\" dengan cukup baik. Berdasarkan grafik tersebut kita juga dapat menyimpulkan bahwa model tidak mengalami overfitting"
      ]
    },
    {
      "cell_type": "code",
      "metadata": {
        "id": "UQkZVc8WfLxt",
        "outputId": "c8ce2396-6eb3-4448-aad9-70c3d3921dc2",
        "colab": {
          "base_uri": "https://localhost:8080/",
          "height": 295
        }
      },
      "source": [
        "plot_accuracy_loss(training_results)"
      ],
      "execution_count": null,
      "outputs": [
        {
          "output_type": "display_data",
          "data": {
            "image/png": "[encoded data removed]",
            "text/plain": [
              "<Figure size 432x288 with 2 Axes>"
            ]
          },
          "metadata": {
            "tags": [],
            "needs_background": "light"
          }
        }
      ]
    },
    {
      "cell_type": "markdown",
      "metadata": {
        "id": "W6Ea8Z54UrgC"
      },
      "source": [
        "**Definisi Model (CNN)**\n",
        "\n",
        "Kali ini, kita akan mencoba menggunaan *Convolutional Neural Network* (CNN) untuk melakukan klasifikasi gambar. CNN sangat cocok untuk task yang menggunakan gambar sebagai inputnya. Hal ini dikarenakan CNN mampu mengekstrak korelasi spasial antar pixel dalam sebuah gambar sehingga fitur-fitur detail yang merepresentasikan gambar dapat diketahui. Fitur-fitur ini yang membedakan antara object yang satu dengan yang lain. Penjelasan detail seputar CNN dapat dilihat di https://cs231n.github.io/convolutional-networks/\n",
        "\n",
        "Overview singkat arsitektur CNN yang digunakan:\n",
        "```\n",
        "input image  ==> conv1 ==> maxpool1 ==> conv2 ==> maxpool2 ==> linear1 ==> output\n",
        "(28x28)       (24x24x16)  (12x12x16)  (8x8x32)    (4x4x32)       (512)       (10)\n",
        "```\n",
        "\n",
        "Sebelum masuk ke block linear, *feature map* pada blok konvolusi terakhir diubah ke vektor menggunakan fungsi `Flatten()`. Sehingga block linear memiliki hidden cell sebanyak 4x4x32 = 512 cell. Layer output memiliki jumlah cell 10 yang merepresentasikan jumlah label kelas pada Fashion MNIST\n",
        "\n"
      ]
    },
    {
      "cell_type": "code",
      "metadata": {
        "id": "KpPdgHH5fVQH",
        "outputId": "a5b7e5a0-15d8-471c-bf3d-da7276c6400f",
        "colab": {
          "base_uri": "https://localhost:8080/",
          "height": 187
        }
      },
      "source": [
        "model_cnn = nn.Sequential(\n",
        "    nn.Conv2d(in_channels=1, out_channels=16, kernel_size=5),\n",
        "    nn.ReLU(),\n",
        "    nn.MaxPool2d(kernel_size=2, stride=2),\n",
        "    nn.Conv2d(in_channels=16, out_channels=32, kernel_size=5),\n",
        "    nn.ReLU(),\n",
        "    nn.MaxPool2d(kernel_size=2, stride=2),\n",
        "    nn.Flatten(), \n",
        "    nn.Linear(in_features=32*4*4, out_features=10)\n",
        ")\n",
        "model_cnn.to(device)"
      ],
      "execution_count": null,
      "outputs": [
        {
          "output_type": "execute_result",
          "data": {
            "text/plain": [
              "Sequential(\n",
              "  (0): Conv2d(1, 16, kernel_size=(5, 5), stride=(1, 1))\n",
              "  (1): ReLU()\n",
              "  (2): MaxPool2d(kernel_size=2, stride=2, padding=0, dilation=1, ceil_mode=False)\n",
              "  (3): Conv2d(16, 32, kernel_size=(5, 5), stride=(1, 1))\n",
              "  (4): ReLU()\n",
              "  (5): MaxPool2d(kernel_size=2, stride=2, padding=0, dilation=1, ceil_mode=False)\n",
              "  (6): Flatten()\n",
              "  (7): Linear(in_features=512, out_features=10, bias=True)\n",
              ")"
            ]
          },
          "metadata": {
            "tags": []
          },
          "execution_count": 18
        }
      ]
    },
    {
      "cell_type": "markdown",
      "metadata": {
        "id": "ND12Q1A9Z206"
      },
      "source": [
        "Kita menggunakan jenis criterion dan optimizer serta nilai learning rate yang sama dengan yang kita pakai untuk model linear."
      ]
    },
    {
      "cell_type": "code",
      "metadata": {
        "id": "tvaXtCh7kBTh"
      },
      "source": [
        "criterion = nn.CrossEntropyLoss()\n",
        "learning_rate = 0.01\n",
        "optimizer = torch.optim.SGD(model_cnn.parameters(), lr=learning_rate)"
      ],
      "execution_count": null,
      "outputs": []
    },
    {
      "cell_type": "markdown",
      "metadata": {
        "id": "qm-VJUH3aPmG"
      },
      "source": [
        "**Training dan Validasi Model CNN**\n",
        "\n",
        "Menggunakan model CNN kita dapat mencapai akurasi validasi sebesar **87.33%** pada epoch 30. Nilai ini jelas lebih baik dibandingkan model linear yang kita pakai sebelumnya. Hal ini menunjukan bahwa untuk data berjenis gambar CNN, memberi dapat memberikan hasil yang baik dibandingkan *neural network* biasa."
      ]
    },
    {
      "cell_type": "code",
      "metadata": {
        "id": "jU7mmy3_gJiE",
        "outputId": "3f26668b-da5f-4e04-af23-49ffe7bc648f",
        "colab": {
          "base_uri": "https://localhost:8080/",
          "height": 1000
        }
      },
      "source": [
        "training_results_cnn = train(model_cnn, criterion, train_loader, validation_loader, optimizer, epochs=30, model_type='cnn')"
      ],
      "execution_count": null,
      "outputs": [
        {
          "output_type": "stream",
          "text": [
            "[INFO] Epoch:1/30 train_loss:1.424395472208659\n",
            "[INFO] Epoch:1/30 val_acc:69.23\n",
            "[INFO] Epoch:2/30 train_loss:0.6980312711497147\n",
            "[INFO] Epoch:2/30 val_acc:73.94\n",
            "[INFO] Epoch:3/30 train_loss:0.6067483057578404\n",
            "[INFO] Epoch:3/30 val_acc:76.89\n",
            "[INFO] Epoch:4/30 train_loss:0.5546249176561833\n",
            "[INFO] Epoch:4/30 val_acc:79.32000000000001\n",
            "[INFO] Epoch:5/30 train_loss:0.5192378741999467\n",
            "[INFO] Epoch:5/30 val_acc:80.62\n",
            "[INFO] Epoch:6/30 train_loss:0.4936698132753372\n",
            "[INFO] Epoch:6/30 val_acc:82.23\n",
            "[INFO] Epoch:7/30 train_loss:0.4721141495803992\n",
            "[INFO] Epoch:7/30 val_acc:83.27\n",
            "[INFO] Epoch:8/30 train_loss:0.4534670945008596\n",
            "[INFO] Epoch:8/30 val_acc:83.44\n",
            "[INFO] Epoch:9/30 train_loss:0.4420976731181145\n",
            "[INFO] Epoch:9/30 val_acc:83.73\n",
            "[INFO] Epoch:10/30 train_loss:0.4304922253141801\n",
            "[INFO] Epoch:10/30 val_acc:84.67\n",
            "[INFO] Epoch:11/30 train_loss:0.422265332788229\n",
            "[INFO] Epoch:11/30 val_acc:83.65\n",
            "[INFO] Epoch:12/30 train_loss:0.4119050591935714\n",
            "[INFO] Epoch:12/30 val_acc:84.56\n",
            "[INFO] Epoch:13/30 train_loss:0.40394895349939663\n",
            "[INFO] Epoch:13/30 val_acc:85.33\n",
            "[INFO] Epoch:14/30 train_loss:0.39735080723961197\n",
            "[INFO] Epoch:14/30 val_acc:85.39\n",
            "[INFO] Epoch:15/30 train_loss:0.3907439270367225\n",
            "[INFO] Epoch:15/30 val_acc:85.84\n",
            "[INFO] Epoch:16/30 train_loss:0.3846931329369545\n",
            "[INFO] Epoch:16/30 val_acc:84.50999999999999\n",
            "[INFO] Epoch:17/30 train_loss:0.37911876728137334\n",
            "[INFO] Epoch:17/30 val_acc:85.36\n",
            "[INFO] Epoch:18/30 train_loss:0.37435804061591627\n",
            "[INFO] Epoch:18/30 val_acc:86.28\n",
            "[INFO] Epoch:19/30 train_loss:0.3696878179907799\n",
            "[INFO] Epoch:19/30 val_acc:86.02\n",
            "[INFO] Epoch:20/30 train_loss:0.36504085997740426\n",
            "[INFO] Epoch:20/30 val_acc:86.49\n",
            "[INFO] Epoch:21/30 train_loss:0.36084972279767197\n",
            "[INFO] Epoch:21/30 val_acc:86.19\n",
            "[INFO] Epoch:22/30 train_loss:0.3563348091890415\n",
            "[INFO] Epoch:22/30 val_acc:86.69\n",
            "[INFO] Epoch:23/30 train_loss:0.35374833879371487\n",
            "[INFO] Epoch:23/30 val_acc:86.69\n",
            "[INFO] Epoch:24/30 train_loss:0.349223491648833\n",
            "[INFO] Epoch:24/30 val_acc:86.42999999999999\n",
            "[INFO] Epoch:25/30 train_loss:0.3467579041669766\n",
            "[INFO] Epoch:25/30 val_acc:86.50999999999999\n",
            "[INFO] Epoch:26/30 train_loss:0.34269495017826557\n",
            "[INFO] Epoch:26/30 val_acc:87.1\n",
            "[INFO] Epoch:27/30 train_loss:0.33920584348340826\n",
            "[INFO] Epoch:27/30 val_acc:86.76\n",
            "[INFO] Epoch:28/30 train_loss:0.3369757331907749\n",
            "[INFO] Epoch:28/30 val_acc:87.13\n",
            "[INFO] Epoch:29/30 train_loss:0.333482906272014\n",
            "[INFO] Epoch:29/30 val_acc:87.29\n",
            "[INFO] Epoch:30/30 train_loss:0.33083208575844764\n",
            "[INFO] Epoch:30/30 val_acc:87.38\n"
          ],
          "name": "stdout"
        }
      ]
    },
    {
      "cell_type": "markdown",
      "metadata": {
        "id": "VQ7xjTd8edX-"
      },
      "source": [
        "**Visualisasi Training Loss vs Akurasi Validasi Model CNN**\n",
        "\n",
        "Berdasarkan grafik di bawah, kita dapat menyimpulkan model tidak mengalami overfitting yang ditunjukan oleh semakin berkurangnya training loss dan semakin meningkatnya akurasi validasi."
      ]
    },
    {
      "cell_type": "code",
      "metadata": {
        "id": "90CKZcFegRw6",
        "outputId": "33350fe0-9cf2-4955-97d3-87a5ee7ce738",
        "colab": {
          "base_uri": "https://localhost:8080/",
          "height": 295
        }
      },
      "source": [
        "plot_accuracy_loss(training_results_cnn)"
      ],
      "execution_count": null,
      "outputs": [
        {
          "output_type": "display_data",
          "data": {
            "image/png": "[encoded data removed]",
            "text/plain": [
              "<Figure size 432x288 with 2 Axes>"
            ]
          },
          "metadata": {
            "tags": [],
            "needs_background": "light"
          }
        }
      ]
    },
    {
      "cell_type": "markdown",
      "metadata": {
        "id": "n8PI_87qpT4G"
      },
      "source": [
        "### **Visualisasi hasil prediksi**"
      ]
    },
    {
      "cell_type": "code",
      "metadata": {
        "id": "jZbRGlQ-cMWn"
      },
      "source": [
        "def imshow(inp, title=None):\n",
        "    \"\"\"Imshow for Tensor.\"\"\"\n",
        "    inp = inp.numpy().transpose((1, 2, 0))\n",
        "    mean = np.array([0.485, 0.456, 0.406])\n",
        "    std = np.array([0.229, 0.224, 0.225])\n",
        "    inp = std * inp + mean\n",
        "    inp = np.clip(inp, 0, 1)\n",
        "    plt.imshow(inp)\n",
        "    if title is not None:\n",
        "        plt.title(title)\n",
        "    plt.pause(0.001) "
      ],
      "execution_count": null,
      "outputs": []
    },
    {
      "cell_type": "code",
      "metadata": {
        "id": "p_9iagOsYsGh"
      },
      "source": [
        "def visualize_output(model, num_images=6):\n",
        "  global class_names\n",
        "  images_so_far = 0\n",
        "  fig = plt.figure()\n",
        "\n",
        "  for x, y in validation_loader:\n",
        "    x, y = x.to(device), y.to(device)\n",
        "    model.eval()\n",
        "    z = model(x)\n",
        "    _, label = torch.max(z, 1)\n",
        "\n",
        "    for j in range(x.size()[0]):\n",
        "      images_so_far += 1\n",
        "      ax = plt.subplot(num_images//2, 2, images_so_far)\n",
        "      ax.axis('off')\n",
        "      ax.set_title('predicted: {}'.format(output_label(label[j])))\n",
        "      imshow(x.cpu().data[j])\n",
        "\n",
        "      if images_so_far == num_images:\n",
        "        info = \"Finish visualize output\"\n",
        "        return info"
      ],
      "execution_count": null,
      "outputs": []
    },
    {
      "cell_type": "code",
      "metadata": {
        "id": "IXEooey6XIlE",
        "outputId": "98f97e6e-72c1-4890-96ef-09ebb294ae8a",
        "colab": {
          "base_uri": "https://localhost:8080/",
          "height": 599
        }
      },
      "source": [
        "visualize_output(model_cnn)"
      ],
      "execution_count": null,
      "outputs": [
        {
          "output_type": "display_data",
          "data": {
            "image/png": "[encoded data removed]",
            "text/plain": [
              "<Figure size 432x288 with 1 Axes>"
            ]
          },
          "metadata": {
            "tags": [],
            "needs_background": "light"
          }
        },
        {
          "output_type": "display_data",
          "data": {
            "image/png": "[encoded data removed]",
            "text/plain": [
              "<Figure size 432x288 with 1 Axes>"
            ]
          },
          "metadata": {
            "tags": [],
            "needs_background": "light"
          }
        },
        {
          "output_type": "display_data",
          "data": {
            "image/png": "[encoded data removed]",
            "text/plain": [
              "<Figure size 432x288 with 1 Axes>"
            ]
          },
          "metadata": {
            "tags": [],
            "needs_background": "light"
          }
        },
        {
          "output_type": "display_data",
          "data": {
            "image/png": "[encoded data removed]",
            "text/plain": [
              "<Figure size 432x288 with 1 Axes>"
            ]
          },
          "metadata": {
            "tags": [],
            "needs_background": "light"
          }
        },
        {
          "output_type": "display_data",
          "data": {
            "image/png": "[encoded data removed]",
            "text/plain": [
              "<Figure size 432x288 with 1 Axes>"
            ]
          },
          "metadata": {
            "tags": [],
            "needs_background": "light"
          }
        },
        {
          "output_type": "display_data",
          "data": {
            "image/png": "[encoded data removed]",
            "text/plain": [
              "<Figure size 432x288 with 1 Axes>"
            ]
          },
          "metadata": {
            "tags": [],
            "needs_background": "light"
          }
        },
        {
          "output_type": "execute_result",
          "data": {
            "application/vnd.google.colaboratory.intrinsic+json": {
              "type": "string"
            },
            "text/plain": [
              "'Finish visualize output'"
            ]
          },
          "metadata": {
            "tags": []
          },
          "execution_count": 58
        }
      ]
    },
    {
      "cell_type": "code",
      "metadata": {
        "id": "ZbWtdFWDdkGS",
        "outputId": "d88d06e7-e8d4-4c3b-fdc1-4ce8bff91668",
        "colab": {
          "base_uri": "https://localhost:8080/",
          "height": 599
        }
      },
      "source": [
        "visualize_output(model_linear)"
      ],
      "execution_count": null,
      "outputs": [
        {
          "output_type": "display_data",
          "data": {
            "image/png": "[encoded data removed]",
            "text/plain": [
              "<Figure size 432x288 with 1 Axes>"
            ]
          },
          "metadata": {
            "tags": [],
            "needs_background": "light"
          }
        },
        {
          "output_type": "display_data",
          "data": {
            "image/png": "[encoded data removed]",
            "text/plain": [
              "<Figure size 432x288 with 1 Axes>"
            ]
          },
          "metadata": {
            "tags": [],
            "needs_background": "light"
          }
        },
        {
          "output_type": "display_data",
          "data": {
            "image/png": "[encoded data removed]",
            "text/plain": [
              "<Figure size 432x288 with 1 Axes>"
            ]
          },
          "metadata": {
            "tags": [],
            "needs_background": "light"
          }
        },
        {
          "output_type": "display_data",
          "data": {
            "image/png": "[encoded data removed]",
            "text/plain": [
              "<Figure size 432x288 with 1 Axes>"
            ]
          },
          "metadata": {
            "tags": [],
            "needs_background": "light"
          }
        },
        {
          "output_type": "display_data",
          "data": {
            "image/png": "[encoded data removed]",
            "text/plain": [
              "<Figure size 432x288 with 1 Axes>"
            ]
          },
          "metadata": {
            "tags": [],
            "needs_background": "light"
          }
        },
        {
          "output_type": "display_data",
          "data": {
            "image/png": "[encoded data removed]",
            "text/plain": [
              "<Figure size 432x288 with 1 Axes>"
            ]
          },
          "metadata": {
            "tags": [],
            "needs_background": "light"
          }
        },
        {
          "output_type": "execute_result",
          "data": {
            "application/vnd.google.colaboratory.intrinsic+json": {
              "type": "string"
            },
            "text/plain": [
              "'Finish visualize output'"
            ]
          },
          "metadata": {
            "tags": []
          },
          "execution_count": 59
        }
      ]
    },
    {
      "cell_type": "markdown",
      "metadata": {
        "id": "A46is0qzpsFJ"
      },
      "source": [
        "**Transfer Learning: Menggunakan pre-trained model dari torchvision**\n",
        "\n",
        "Torchvision menyediakan beberapa pre-trained model untuk klasifikasi gambar diantaranya VGG, Resnet, Alexnet dst. Cek di https://pytorch.org/docs/stable/torchvision/models.html. Untuk case kali ini, kita akan menggunakan pre-trained model resnet18. \n"
      ]
    },
    {
      "cell_type": "code",
      "metadata": {
        "id": "Rd_lnO8fdgsz",
        "outputId": "f9c2f13a-91a0-47c7-faa6-87ac4584a5e2",
        "colab": {
          "base_uri": "https://localhost:8080/",
          "height": 1000
        }
      },
      "source": [
        "model_pretrain = torchvision.models.resnet18(pretrained=True)\n",
        "model_pretrain"
      ],
      "execution_count": null,
      "outputs": [
        {
          "output_type": "execute_result",
          "data": {
            "text/plain": [
              "ResNet(\n",
              "  (conv1): Conv2d(3, 64, kernel_size=(7, 7), stride=(2, 2), padding=(3, 3), bias=False)\n",
              "  (bn1): BatchNorm2d(64, eps=1e-05, momentum=0.1, affine=True, track_running_stats=True)\n",
              "  (relu): ReLU(inplace=True)\n",
              "  (maxpool): MaxPool2d(kernel_size=3, stride=2, padding=1, dilation=1, ceil_mode=False)\n",
              "  (layer1): Sequential(\n",
              "    (0): BasicBlock(\n",
              "      (conv1): Conv2d(64, 64, kernel_size=(3, 3), stride=(1, 1), padding=(1, 1), bias=False)\n",
              "      (bn1): BatchNorm2d(64, eps=1e-05, momentum=0.1, affine=True, track_running_stats=True)\n",
              "      (relu): ReLU(inplace=True)\n",
              "      (conv2): Conv2d(64, 64, kernel_size=(3, 3), stride=(1, 1), padding=(1, 1), bias=False)\n",
              "      (bn2): BatchNorm2d(64, eps=1e-05, momentum=0.1, affine=True, track_running_stats=True)\n",
              "    )\n",
              "    (1): BasicBlock(\n",
              "      (conv1): Conv2d(64, 64, kernel_size=(3, 3), stride=(1, 1), padding=(1, 1), bias=False)\n",
              "      (bn1): BatchNorm2d(64, eps=1e-05, momentum=0.1, affine=True, track_running_stats=True)\n",
              "      (relu): ReLU(inplace=True)\n",
              "      (conv2): Conv2d(64, 64, kernel_size=(3, 3), stride=(1, 1), padding=(1, 1), bias=False)\n",
              "      (bn2): BatchNorm2d(64, eps=1e-05, momentum=0.1, affine=True, track_running_stats=True)\n",
              "    )\n",
              "  )\n",
              "  (layer2): Sequential(\n",
              "    (0): BasicBlock(\n",
              "      (conv1): Conv2d(64, 128, kernel_size=(3, 3), stride=(2, 2), padding=(1, 1), bias=False)\n",
              "      (bn1): BatchNorm2d(128, eps=1e-05, momentum=0.1, affine=True, track_running_stats=True)\n",
              "      (relu): ReLU(inplace=True)\n",
              "      (conv2): Conv2d(128, 128, kernel_size=(3, 3), stride=(1, 1), padding=(1, 1), bias=False)\n",
              "      (bn2): BatchNorm2d(128, eps=1e-05, momentum=0.1, affine=True, track_running_stats=True)\n",
              "      (downsample): Sequential(\n",
              "        (0): Conv2d(64, 128, kernel_size=(1, 1), stride=(2, 2), bias=False)\n",
              "        (1): BatchNorm2d(128, eps=1e-05, momentum=0.1, affine=True, track_running_stats=True)\n",
              "      )\n",
              "    )\n",
              "    (1): BasicBlock(\n",
              "      (conv1): Conv2d(128, 128, kernel_size=(3, 3), stride=(1, 1), padding=(1, 1), bias=False)\n",
              "      (bn1): BatchNorm2d(128, eps=1e-05, momentum=0.1, affine=True, track_running_stats=True)\n",
              "      (relu): ReLU(inplace=True)\n",
              "      (conv2): Conv2d(128, 128, kernel_size=(3, 3), stride=(1, 1), padding=(1, 1), bias=False)\n",
              "      (bn2): BatchNorm2d(128, eps=1e-05, momentum=0.1, affine=True, track_running_stats=True)\n",
              "    )\n",
              "  )\n",
              "  (layer3): Sequential(\n",
              "    (0): BasicBlock(\n",
              "      (conv1): Conv2d(128, 256, kernel_size=(3, 3), stride=(2, 2), padding=(1, 1), bias=False)\n",
              "      (bn1): BatchNorm2d(256, eps=1e-05, momentum=0.1, affine=True, track_running_stats=True)\n",
              "      (relu): ReLU(inplace=True)\n",
              "      (conv2): Conv2d(256, 256, kernel_size=(3, 3), stride=(1, 1), padding=(1, 1), bias=False)\n",
              "      (bn2): BatchNorm2d(256, eps=1e-05, momentum=0.1, affine=True, track_running_stats=True)\n",
              "      (downsample): Sequential(\n",
              "        (0): Conv2d(128, 256, kernel_size=(1, 1), stride=(2, 2), bias=False)\n",
              "        (1): BatchNorm2d(256, eps=1e-05, momentum=0.1, affine=True, track_running_stats=True)\n",
              "      )\n",
              "    )\n",
              "    (1): BasicBlock(\n",
              "      (conv1): Conv2d(256, 256, kernel_size=(3, 3), stride=(1, 1), padding=(1, 1), bias=False)\n",
              "      (bn1): BatchNorm2d(256, eps=1e-05, momentum=0.1, affine=True, track_running_stats=True)\n",
              "      (relu): ReLU(inplace=True)\n",
              "      (conv2): Conv2d(256, 256, kernel_size=(3, 3), stride=(1, 1), padding=(1, 1), bias=False)\n",
              "      (bn2): BatchNorm2d(256, eps=1e-05, momentum=0.1, affine=True, track_running_stats=True)\n",
              "    )\n",
              "  )\n",
              "  (layer4): Sequential(\n",
              "    (0): BasicBlock(\n",
              "      (conv1): Conv2d(256, 512, kernel_size=(3, 3), stride=(2, 2), padding=(1, 1), bias=False)\n",
              "      (bn1): BatchNorm2d(512, eps=1e-05, momentum=0.1, affine=True, track_running_stats=True)\n",
              "      (relu): ReLU(inplace=True)\n",
              "      (conv2): Conv2d(512, 512, kernel_size=(3, 3), stride=(1, 1), padding=(1, 1), bias=False)\n",
              "      (bn2): BatchNorm2d(512, eps=1e-05, momentum=0.1, affine=True, track_running_stats=True)\n",
              "      (downsample): Sequential(\n",
              "        (0): Conv2d(256, 512, kernel_size=(1, 1), stride=(2, 2), bias=False)\n",
              "        (1): BatchNorm2d(512, eps=1e-05, momentum=0.1, affine=True, track_running_stats=True)\n",
              "      )\n",
              "    )\n",
              "    (1): BasicBlock(\n",
              "      (conv1): Conv2d(512, 512, kernel_size=(3, 3), stride=(1, 1), padding=(1, 1), bias=False)\n",
              "      (bn1): BatchNorm2d(512, eps=1e-05, momentum=0.1, affine=True, track_running_stats=True)\n",
              "      (relu): ReLU(inplace=True)\n",
              "      (conv2): Conv2d(512, 512, kernel_size=(3, 3), stride=(1, 1), padding=(1, 1), bias=False)\n",
              "      (bn2): BatchNorm2d(512, eps=1e-05, momentum=0.1, affine=True, track_running_stats=True)\n",
              "    )\n",
              "  )\n",
              "  (avgpool): AdaptiveAvgPool2d(output_size=(1, 1))\n",
              "  (fc): Linear(in_features=512, out_features=1000, bias=True)\n",
              ")"
            ]
          },
          "metadata": {
            "tags": []
          },
          "execution_count": 22
        }
      ]
    },
    {
      "cell_type": "markdown",
      "metadata": {
        "id": "3RLoMKE2rM3L"
      },
      "source": [
        "Karena Fashion MNIST memiliki format data yang berbeda dengan dataset yang digunakan untuk training resnet18 ini, ada beberapa step yang harus dilakukan.\n",
        "\n",
        "1.   Merubah **convolutional layer pertama** dari resnet18 agar dapat menerima input dengan channel = 1 (gambar hitam putih)\n",
        "2.   Merubah **linear layer terakhir** dari resnet18 agar memiliki jumlah output neuron = 10 (sesuai dengan jumlah kelas di Fashion MNIST)\n"
      ]
    },
    {
      "cell_type": "code",
      "metadata": {
        "id": "4Vv23Um_d7Ry",
        "outputId": "24340740-36dd-44e5-d98a-f1e2838358e7",
        "colab": {
          "base_uri": "https://localhost:8080/",
          "height": 1000
        }
      },
      "source": [
        "num_features = model_pretrain.fc.in_features\n",
        "model_pretrain.conv1 = nn.Conv1d(1, 64, (7, 7), (2, 2), (3, 3), bias=False)\n",
        "model_pretrain.fc = nn.Linear(num_features, len(class_names))\n",
        "model_pretrain.to(device)"
      ],
      "execution_count": null,
      "outputs": [
        {
          "output_type": "execute_result",
          "data": {
            "text/plain": [
              "ResNet(\n",
              "  (conv1): Conv1d(1, 64, kernel_size=(7, 7), stride=(2, 2), padding=(3, 3), bias=False)\n",
              "  (bn1): BatchNorm2d(64, eps=1e-05, momentum=0.1, affine=True, track_running_stats=True)\n",
              "  (relu): ReLU(inplace=True)\n",
              "  (maxpool): MaxPool2d(kernel_size=3, stride=2, padding=1, dilation=1, ceil_mode=False)\n",
              "  (layer1): Sequential(\n",
              "    (0): BasicBlock(\n",
              "      (conv1): Conv2d(64, 64, kernel_size=(3, 3), stride=(1, 1), padding=(1, 1), bias=False)\n",
              "      (bn1): BatchNorm2d(64, eps=1e-05, momentum=0.1, affine=True, track_running_stats=True)\n",
              "      (relu): ReLU(inplace=True)\n",
              "      (conv2): Conv2d(64, 64, kernel_size=(3, 3), stride=(1, 1), padding=(1, 1), bias=False)\n",
              "      (bn2): BatchNorm2d(64, eps=1e-05, momentum=0.1, affine=True, track_running_stats=True)\n",
              "    )\n",
              "    (1): BasicBlock(\n",
              "      (conv1): Conv2d(64, 64, kernel_size=(3, 3), stride=(1, 1), padding=(1, 1), bias=False)\n",
              "      (bn1): BatchNorm2d(64, eps=1e-05, momentum=0.1, affine=True, track_running_stats=True)\n",
              "      (relu): ReLU(inplace=True)\n",
              "      (conv2): Conv2d(64, 64, kernel_size=(3, 3), stride=(1, 1), padding=(1, 1), bias=False)\n",
              "      (bn2): BatchNorm2d(64, eps=1e-05, momentum=0.1, affine=True, track_running_stats=True)\n",
              "    )\n",
              "  )\n",
              "  (layer2): Sequential(\n",
              "    (0): BasicBlock(\n",
              "      (conv1): Conv2d(64, 128, kernel_size=(3, 3), stride=(2, 2), padding=(1, 1), bias=False)\n",
              "      (bn1): BatchNorm2d(128, eps=1e-05, momentum=0.1, affine=True, track_running_stats=True)\n",
              "      (relu): ReLU(inplace=True)\n",
              "      (conv2): Conv2d(128, 128, kernel_size=(3, 3), stride=(1, 1), padding=(1, 1), bias=False)\n",
              "      (bn2): BatchNorm2d(128, eps=1e-05, momentum=0.1, affine=True, track_running_stats=True)\n",
              "      (downsample): Sequential(\n",
              "        (0): Conv2d(64, 128, kernel_size=(1, 1), stride=(2, 2), bias=False)\n",
              "        (1): BatchNorm2d(128, eps=1e-05, momentum=0.1, affine=True, track_running_stats=True)\n",
              "      )\n",
              "    )\n",
              "    (1): BasicBlock(\n",
              "      (conv1): Conv2d(128, 128, kernel_size=(3, 3), stride=(1, 1), padding=(1, 1), bias=False)\n",
              "      (bn1): BatchNorm2d(128, eps=1e-05, momentum=0.1, affine=True, track_running_stats=True)\n",
              "      (relu): ReLU(inplace=True)\n",
              "      (conv2): Conv2d(128, 128, kernel_size=(3, 3), stride=(1, 1), padding=(1, 1), bias=False)\n",
              "      (bn2): BatchNorm2d(128, eps=1e-05, momentum=0.1, affine=True, track_running_stats=True)\n",
              "    )\n",
              "  )\n",
              "  (layer3): Sequential(\n",
              "    (0): BasicBlock(\n",
              "      (conv1): Conv2d(128, 256, kernel_size=(3, 3), stride=(2, 2), padding=(1, 1), bias=False)\n",
              "      (bn1): BatchNorm2d(256, eps=1e-05, momentum=0.1, affine=True, track_running_stats=True)\n",
              "      (relu): ReLU(inplace=True)\n",
              "      (conv2): Conv2d(256, 256, kernel_size=(3, 3), stride=(1, 1), padding=(1, 1), bias=False)\n",
              "      (bn2): BatchNorm2d(256, eps=1e-05, momentum=0.1, affine=True, track_running_stats=True)\n",
              "      (downsample): Sequential(\n",
              "        (0): Conv2d(128, 256, kernel_size=(1, 1), stride=(2, 2), bias=False)\n",
              "        (1): BatchNorm2d(256, eps=1e-05, momentum=0.1, affine=True, track_running_stats=True)\n",
              "      )\n",
              "    )\n",
              "    (1): BasicBlock(\n",
              "      (conv1): Conv2d(256, 256, kernel_size=(3, 3), stride=(1, 1), padding=(1, 1), bias=False)\n",
              "      (bn1): BatchNorm2d(256, eps=1e-05, momentum=0.1, affine=True, track_running_stats=True)\n",
              "      (relu): ReLU(inplace=True)\n",
              "      (conv2): Conv2d(256, 256, kernel_size=(3, 3), stride=(1, 1), padding=(1, 1), bias=False)\n",
              "      (bn2): BatchNorm2d(256, eps=1e-05, momentum=0.1, affine=True, track_running_stats=True)\n",
              "    )\n",
              "  )\n",
              "  (layer4): Sequential(\n",
              "    (0): BasicBlock(\n",
              "      (conv1): Conv2d(256, 512, kernel_size=(3, 3), stride=(2, 2), padding=(1, 1), bias=False)\n",
              "      (bn1): BatchNorm2d(512, eps=1e-05, momentum=0.1, affine=True, track_running_stats=True)\n",
              "      (relu): ReLU(inplace=True)\n",
              "      (conv2): Conv2d(512, 512, kernel_size=(3, 3), stride=(1, 1), padding=(1, 1), bias=False)\n",
              "      (bn2): BatchNorm2d(512, eps=1e-05, momentum=0.1, affine=True, track_running_stats=True)\n",
              "      (downsample): Sequential(\n",
              "        (0): Conv2d(256, 512, kernel_size=(1, 1), stride=(2, 2), bias=False)\n",
              "        (1): BatchNorm2d(512, eps=1e-05, momentum=0.1, affine=True, track_running_stats=True)\n",
              "      )\n",
              "    )\n",
              "    (1): BasicBlock(\n",
              "      (conv1): Conv2d(512, 512, kernel_size=(3, 3), stride=(1, 1), padding=(1, 1), bias=False)\n",
              "      (bn1): BatchNorm2d(512, eps=1e-05, momentum=0.1, affine=True, track_running_stats=True)\n",
              "      (relu): ReLU(inplace=True)\n",
              "      (conv2): Conv2d(512, 512, kernel_size=(3, 3), stride=(1, 1), padding=(1, 1), bias=False)\n",
              "      (bn2): BatchNorm2d(512, eps=1e-05, momentum=0.1, affine=True, track_running_stats=True)\n",
              "    )\n",
              "  )\n",
              "  (avgpool): AdaptiveAvgPool2d(output_size=(1, 1))\n",
              "  (fc): Linear(in_features=512, out_features=10, bias=True)\n",
              ")"
            ]
          },
          "metadata": {
            "tags": []
          },
          "execution_count": 23
        }
      ]
    },
    {
      "cell_type": "code",
      "metadata": {
        "id": "oq0FKaSGeVEE"
      },
      "source": [
        "criterion = nn.CrossEntropyLoss()\n",
        "learning_rate = 0.01\n",
        "optimizer = torch.optim.SGD(model_pretrain.parameters(), lr=learning_rate)"
      ],
      "execution_count": null,
      "outputs": []
    },
    {
      "cell_type": "code",
      "metadata": {
        "id": "k_LzFbW6kKZ_",
        "outputId": "9b6bcd0b-4f10-4c56-8c1b-ed99f21390f6",
        "colab": {
          "base_uri": "https://localhost:8080/",
          "height": 187
        }
      },
      "source": [
        "training_results_pretrain = train(model_pretrain, criterion, train_loader, validation_loader, optimizer, epochs=5, model_type='cnn')"
      ],
      "execution_count": null,
      "outputs": [
        {
          "output_type": "stream",
          "text": [
            "[INFO] Epoch:1/5 train_loss:0.3423865712185701\n",
            "[INFO] Epoch:1/5 val_acc:86.95\n",
            "[INFO] Epoch:2/5 train_loss:0.29342149294912817\n",
            "[INFO] Epoch:2/5 val_acc:87.57000000000001\n",
            "[INFO] Epoch:3/5 train_loss:0.2618970094124476\n",
            "[INFO] Epoch:3/5 val_acc:88.3\n",
            "[INFO] Epoch:4/5 train_loss:0.23386682718992233\n",
            "[INFO] Epoch:4/5 val_acc:88.86\n",
            "[INFO] Epoch:5/5 train_loss:0.21108351199577252\n",
            "[INFO] Epoch:5/5 val_acc:88.92999999999999\n"
          ],
          "name": "stdout"
        }
      ]
    },
    {
      "cell_type": "code",
      "metadata": {
        "id": "SkhtEUOprfXn",
        "outputId": "d1cb0145-41c4-46e6-e085-a4f5859cf933",
        "colab": {
          "base_uri": "https://localhost:8080/",
          "height": 295
        }
      },
      "source": [
        "plot_accuracy_loss(training_results_pretrain)"
      ],
      "execution_count": null,
      "outputs": [
        {
          "output_type": "display_data",
          "data": {
            "image/png": "[encoded data removed]",
            "text/plain": [
              "<Figure size 432x288 with 2 Axes>"
            ]
          },
          "metadata": {
            "tags": [],
            "needs_background": "light"
          }
        }
      ]
    },
    {
      "cell_type": "code",
      "metadata": {
        "id": "2FmmU2jBrmQo",
        "outputId": "4301adfd-e96f-4151-b53c-58ba411186d9",
        "colab": {
          "base_uri": "https://localhost:8080/",
          "height": 599
        }
      },
      "source": [
        "visualize_output(model_pretrain)"
      ],
      "execution_count": null,
      "outputs": [
        {
          "output_type": "display_data",
          "data": {
            "image/png": "[encoded data removed]",
            "text/plain": [
              "<Figure size 432x288 with 1 Axes>"
            ]
          },
          "metadata": {
            "tags": [],
            "needs_background": "light"
          }
        },
        {
          "output_type": "display_data",
          "data": {
            "image/png": "[encoded data removed]",
            "text/plain": [
              "<Figure size 432x288 with 1 Axes>"
            ]
          },
          "metadata": {
            "tags": [],
            "needs_background": "light"
          }
        },
        {
          "output_type": "display_data",
          "data": {
            "image/png": "[encoded data removed]",
            "text/plain": [
              "<Figure size 432x288 with 1 Axes>"
            ]
          },
          "metadata": {
            "tags": [],
            "needs_background": "light"
          }
        },
        {
          "output_type": "display_data",
          "data": {
            "image/png": "[encoded data removed]",
            "text/plain": [
              "<Figure size 432x288 with 1 Axes>"
            ]
          },
          "metadata": {
            "tags": [],
            "needs_background": "light"
          }
        },
        {
          "output_type": "display_data",
          "data": {
            "image/png": "[encoded data removed]",
            "text/plain": [
              "<Figure size 432x288 with 1 Axes>"
            ]
          },
          "metadata": {
            "tags": [],
            "needs_background": "light"
          }
        },
        {
          "output_type": "display_data",
          "data": {
            "image/png": "[encoded data removed]",
            "text/plain": [
              "<Figure size 432x288 with 1 Axes>"
            ]
          },
          "metadata": {
            "tags": [],
            "needs_background": "light"
          }
        },
        {
          "output_type": "execute_result",
          "data": {
            "application/vnd.google.colaboratory.intrinsic+json": {
              "type": "string"
            },
            "text/plain": [
              "'Finish visualize output'"
            ]
          },
          "metadata": {
            "tags": []
          },
          "execution_count": 33
        }
      ]
    }
  ]
}